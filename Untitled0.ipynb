{
  "nbformat": 4,
  "nbformat_minor": 0,
  "metadata": {
    "colab": {
      "provenance": [],
      "authorship_tag": "ABX9TyMc9vklDul4vyCBDsN/xoyb",
      "include_colab_link": true
    },
    "kernelspec": {
      "name": "python3",
      "display_name": "Python 3"
    },
    "language_info": {
      "name": "python"
    }
  },
  "cells": [
    {
      "cell_type": "markdown",
      "metadata": {
        "id": "view-in-github",
        "colab_type": "text"
      },
      "source": [
        "<a href=\"https://colab.research.google.com/github/arfariaz204/python/blob/main/Untitled0.ipynb\" target=\"_parent\"><img src=\"https://colab.research.google.com/assets/colab-badge.svg\" alt=\"Open In Colab\"/></a>"
      ]
    },
    {
      "cell_type": "code",
      "execution_count": 39,
      "metadata": {
        "colab": {
          "base_uri": "https://localhost:8080/"
        },
        "id": "SQOztak8sxGh",
        "outputId": "62ba96dd-db2b-4266-813b-58fec00c6a15"
      },
      "outputs": [
        {
          "output_type": "stream",
          "name": "stdout",
          "text": [
            "Hello World!\n"
          ]
        }
      ],
      "source": [
        "print(\"Hello World!\")"
      ]
    },
    {
      "cell_type": "code",
      "source": [
        "name = \"Sehar Riaz\"\n",
        "age = 21\n",
        "height = 5.1\n",
        "Is_student = True\n",
        "\n",
        "print(name)\n",
        "print(age)\n",
        "print(height)\n",
        "print(Is_student)"
      ],
      "metadata": {
        "colab": {
          "base_uri": "https://localhost:8080/"
        },
        "id": "oRqrvDsQs2A2",
        "outputId": "5279bf58-6c54-4cd3-b087-995e6a2e793b"
      },
      "execution_count": 40,
      "outputs": [
        {
          "output_type": "stream",
          "name": "stdout",
          "text": [
            "Sehar Riaz\n",
            "21\n",
            "5.1\n",
            "True\n"
          ]
        }
      ]
    },
    {
      "cell_type": "code",
      "source": [
        "a = 12\n",
        "b = 6\n",
        "\n",
        "print(\"Addition = \",  a+b)\n",
        "print(\"Subtraction = \", a-b)\n",
        "print(\"Multiplication = \", a*b)\n",
        "print(\"Division = \", a/b)\n",
        "print(\"Modulus = \", a%b)"
      ],
      "metadata": {
        "colab": {
          "base_uri": "https://localhost:8080/"
        },
        "id": "wB0HV0ctvMzW",
        "outputId": "41f8d09c-752f-43d2-d7bc-0887f60c2a9d"
      },
      "execution_count": 41,
      "outputs": [
        {
          "output_type": "stream",
          "name": "stdout",
          "text": [
            "Addition =  18\n",
            "Subtraction =  6\n",
            "Multiplication =  72\n",
            "Division =  2.0\n",
            "Modulus =  0\n"
          ]
        }
      ]
    },
    {
      "cell_type": "code",
      "source": [
        "x = 18\n",
        "y = 27\n",
        "\n",
        "print(x == y)\n",
        "print(x != y)\n",
        "print(x < y)\n",
        "print(x > y)\n",
        "print(x <= y)\n",
        "print(x >= y)"
      ],
      "metadata": {
        "colab": {
          "base_uri": "https://localhost:8080/"
        },
        "id": "YreAsNTvw-dP",
        "outputId": "ecf5df20-8c7c-484b-f13f-561a9ab994a2"
      },
      "execution_count": 42,
      "outputs": [
        {
          "output_type": "stream",
          "name": "stdout",
          "text": [
            "False\n",
            "True\n",
            "True\n",
            "False\n",
            "True\n",
            "False\n"
          ]
        }
      ]
    }
  ]
}